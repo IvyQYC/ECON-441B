{
 "cells": [
  {
   "cell_type": "code",
   "execution_count": 116,
   "id": "1022e4d8",
   "metadata": {},
   "outputs": [],
   "source": [
    "import pandas as pd"
   ]
  },
  {
   "cell_type": "markdown",
   "id": "a98f5070",
   "metadata": {},
   "source": [
    "# 0.) Clean the Apple Data to get a quarterly series of EPS."
   ]
  },
  {
   "cell_type": "code",
   "execution_count": 117,
   "id": "c7f8e883",
   "metadata": {},
   "outputs": [],
   "source": [
    "y = pd.read_csv('AAPL_quarterly_financials.csv')\n",
    "y.index = y.name\n",
    "y = pd.DataFrame(y.loc['BasicEPS', :]).iloc[2:,:]"
   ]
  },
  {
   "cell_type": "code",
   "execution_count": 118,
   "id": "8ad30c13",
   "metadata": {},
   "outputs": [],
   "source": [
    "y.index = pd.to_datetime(y.index)"
   ]
  },
  {
   "cell_type": "code",
   "execution_count": 119,
   "id": "709aed05",
   "metadata": {},
   "outputs": [],
   "source": [
    "y = y.sort_index().fillna(0.)"
   ]
  },
  {
   "cell_type": "markdown",
   "id": "f41c46a9",
   "metadata": {},
   "source": [
    "# 1.) Come up with 6 search terms you think could nowcast earnings. (Different than the ones I used) Add in 3 terms that that you think will not Nowcast earnings. Pull in the gtrends data. Clean it to have a quarterly average."
   ]
  },
  {
   "cell_type": "code",
   "execution_count": 120,
   "id": "6bd8b084",
   "metadata": {},
   "outputs": [],
   "source": [
    "from pytrends.request import TrendReq"
   ]
  },
  {
   "cell_type": "code",
   "execution_count": 231,
   "id": "36446546",
   "metadata": {},
   "outputs": [],
   "source": [
    "# Create pytrends object\n",
    "pytrends = TrendReq(hl='en-US', tz=360)\n",
    "\n",
    "# Set up the keywords and the timeframe\n",
    "keywords = [\"Iphone\",\"Savings\",\"MacBook\",\"Huawei\",\"Release\",\"Interest Rates\", \"UCLA\", \"Muffin\",\"Pets\"]  # Add your keywords here\n",
    "start_date = '2004-01-01'\n",
    "end_date = '2024-01-01'\n",
    "\n",
    "# Create an empty DataFrame to store the results\n",
    "df = pd.DataFrame()\n",
    "\n",
    "# Iterate through keywords and fetch data\n",
    "for keyword in keywords:\n",
    "    pytrends.build_payload([keyword], cat=0, timeframe=f'{start_date} {end_date}', geo='', gprop='')\n",
    "    interest_over_time_df = pytrends.interest_over_time()\n",
    "    df[keyword] = interest_over_time_df[keyword]"
   ]
  },
  {
   "cell_type": "code",
   "execution_count": 232,
   "id": "e4c03bb5",
   "metadata": {},
   "outputs": [],
   "source": [
    "df = df.resample('Q').mean()"
   ]
  },
  {
   "cell_type": "code",
   "execution_count": 233,
   "id": "e4557ae9",
   "metadata": {},
   "outputs": [],
   "source": [
    "data = pd.concat([y, df], axis = 1).ffill().dropna()"
   ]
  },
  {
   "cell_type": "code",
   "execution_count": 234,
   "id": "cc5504b8",
   "metadata": {},
   "outputs": [],
   "source": [
    "y = data.iloc[:, 0]\n",
    "X = data.iloc[:, 1:]"
   ]
  },
  {
   "cell_type": "markdown",
   "id": "73c7abb8",
   "metadata": {},
   "source": [
    "# 2.) Normalize all the X data"
   ]
  },
  {
   "cell_type": "code",
   "execution_count": 235,
   "id": "95a7bb4d",
   "metadata": {},
   "outputs": [],
   "source": [
    "from sklearn.preprocessing import StandardScaler"
   ]
  },
  {
   "cell_type": "code",
   "execution_count": 236,
   "id": "397b45e8",
   "metadata": {},
   "outputs": [],
   "source": [
    "scaler = StandardScaler()\n",
    "X_scaled = scaler.fit_transform(X)"
   ]
  },
  {
   "cell_type": "markdown",
   "id": "2c1b3d9a",
   "metadata": {},
   "source": [
    "# 3.) Import data. Train, Test, Holdout (80%,15%,5%)"
   ]
  },
  {
   "cell_type": "code",
   "execution_count": null,
   "id": "77671d95",
   "metadata": {},
   "outputs": [],
   "source": []
  },
  {
   "cell_type": "markdown",
   "id": "da43d5ef",
   "metadata": {},
   "source": [
    "# 4.) Run a Lasso with lambda of .5. Plot a bar chart."
   ]
  },
  {
   "cell_type": "code",
   "execution_count": 237,
   "id": "b7ff06aa",
   "metadata": {},
   "outputs": [],
   "source": [
    "from sklearn.linear_model import Lasso"
   ]
  },
  {
   "cell_type": "code",
   "execution_count": 238,
   "id": "f7311bec",
   "metadata": {},
   "outputs": [
    {
     "data": {
      "text/html": [
       "<style>#sk-container-id-13 {color: black;}#sk-container-id-13 pre{padding: 0;}#sk-container-id-13 div.sk-toggleable {background-color: white;}#sk-container-id-13 label.sk-toggleable__label {cursor: pointer;display: block;width: 100%;margin-bottom: 0;padding: 0.3em;box-sizing: border-box;text-align: center;}#sk-container-id-13 label.sk-toggleable__label-arrow:before {content: \"▸\";float: left;margin-right: 0.25em;color: #696969;}#sk-container-id-13 label.sk-toggleable__label-arrow:hover:before {color: black;}#sk-container-id-13 div.sk-estimator:hover label.sk-toggleable__label-arrow:before {color: black;}#sk-container-id-13 div.sk-toggleable__content {max-height: 0;max-width: 0;overflow: hidden;text-align: left;background-color: #f0f8ff;}#sk-container-id-13 div.sk-toggleable__content pre {margin: 0.2em;color: black;border-radius: 0.25em;background-color: #f0f8ff;}#sk-container-id-13 input.sk-toggleable__control:checked~div.sk-toggleable__content {max-height: 200px;max-width: 100%;overflow: auto;}#sk-container-id-13 input.sk-toggleable__control:checked~label.sk-toggleable__label-arrow:before {content: \"▾\";}#sk-container-id-13 div.sk-estimator input.sk-toggleable__control:checked~label.sk-toggleable__label {background-color: #d4ebff;}#sk-container-id-13 div.sk-label input.sk-toggleable__control:checked~label.sk-toggleable__label {background-color: #d4ebff;}#sk-container-id-13 input.sk-hidden--visually {border: 0;clip: rect(1px 1px 1px 1px);clip: rect(1px, 1px, 1px, 1px);height: 1px;margin: -1px;overflow: hidden;padding: 0;position: absolute;width: 1px;}#sk-container-id-13 div.sk-estimator {font-family: monospace;background-color: #f0f8ff;border: 1px dotted black;border-radius: 0.25em;box-sizing: border-box;margin-bottom: 0.5em;}#sk-container-id-13 div.sk-estimator:hover {background-color: #d4ebff;}#sk-container-id-13 div.sk-parallel-item::after {content: \"\";width: 100%;border-bottom: 1px solid gray;flex-grow: 1;}#sk-container-id-13 div.sk-label:hover label.sk-toggleable__label {background-color: #d4ebff;}#sk-container-id-13 div.sk-serial::before {content: \"\";position: absolute;border-left: 1px solid gray;box-sizing: border-box;top: 0;bottom: 0;left: 50%;z-index: 0;}#sk-container-id-13 div.sk-serial {display: flex;flex-direction: column;align-items: center;background-color: white;padding-right: 0.2em;padding-left: 0.2em;position: relative;}#sk-container-id-13 div.sk-item {position: relative;z-index: 1;}#sk-container-id-13 div.sk-parallel {display: flex;align-items: stretch;justify-content: center;background-color: white;position: relative;}#sk-container-id-13 div.sk-item::before, #sk-container-id-13 div.sk-parallel-item::before {content: \"\";position: absolute;border-left: 1px solid gray;box-sizing: border-box;top: 0;bottom: 0;left: 50%;z-index: -1;}#sk-container-id-13 div.sk-parallel-item {display: flex;flex-direction: column;z-index: 1;position: relative;background-color: white;}#sk-container-id-13 div.sk-parallel-item:first-child::after {align-self: flex-end;width: 50%;}#sk-container-id-13 div.sk-parallel-item:last-child::after {align-self: flex-start;width: 50%;}#sk-container-id-13 div.sk-parallel-item:only-child::after {width: 0;}#sk-container-id-13 div.sk-dashed-wrapped {border: 1px dashed gray;margin: 0 0.4em 0.5em 0.4em;box-sizing: border-box;padding-bottom: 0.4em;background-color: white;}#sk-container-id-13 div.sk-label label {font-family: monospace;font-weight: bold;display: inline-block;line-height: 1.2em;}#sk-container-id-13 div.sk-label-container {text-align: center;}#sk-container-id-13 div.sk-container {/* jupyter's `normalize.less` sets `[hidden] { display: none; }` but bootstrap.min.css set `[hidden] { display: none !important; }` so we also need the `!important` here to be able to override the default hidden behavior on the sphinx rendered scikit-learn.org. See: https://github.com/scikit-learn/scikit-learn/issues/21755 */display: inline-block !important;position: relative;}#sk-container-id-13 div.sk-text-repr-fallback {display: none;}</style><div id=\"sk-container-id-13\" class=\"sk-top-container\"><div class=\"sk-text-repr-fallback\"><pre>Lasso(alpha=0.1)</pre><b>In a Jupyter environment, please rerun this cell to show the HTML representation or trust the notebook. <br />On GitHub, the HTML representation is unable to render, please try loading this page with nbviewer.org.</b></div><div class=\"sk-container\" hidden><div class=\"sk-item\"><div class=\"sk-estimator sk-toggleable\"><input class=\"sk-toggleable__control sk-hidden--visually\" id=\"sk-estimator-id-13\" type=\"checkbox\" checked><label for=\"sk-estimator-id-13\" class=\"sk-toggleable__label sk-toggleable__label-arrow\">Lasso</label><div class=\"sk-toggleable__content\"><pre>Lasso(alpha=0.1)</pre></div></div></div></div></div>"
      ],
      "text/plain": [
       "Lasso(alpha=0.1)"
      ]
     },
     "execution_count": 238,
     "metadata": {},
     "output_type": "execute_result"
    }
   ],
   "source": [
    "lasso = Lasso(alpha = .1)\n",
    "lasso.fit(X_scaled, y)"
   ]
  },
  {
   "cell_type": "code",
   "execution_count": 239,
   "id": "5d58e8fd",
   "metadata": {},
   "outputs": [],
   "source": [
    "coefficients = lasso.coef_"
   ]
  },
  {
   "cell_type": "code",
   "execution_count": 240,
   "id": "5a3321dc",
   "metadata": {},
   "outputs": [],
   "source": [
    "import matplotlib.pyplot as plt"
   ]
  },
  {
   "cell_type": "code",
   "execution_count": 241,
   "id": "7e8a002e",
   "metadata": {},
   "outputs": [
    {
     "data": {
      "image/png": "[encoded data removed]",
      "text/plain": [
       "<Figure size 1200x500 with 1 Axes>"
      ]
     },
     "metadata": {},
     "output_type": "display_data"
    }
   ],
   "source": [
    "plt.figure(figsize = (12,5))\n",
    "plt.bar(range(len(coefficients)),coefficients)\n",
    "plt.axhline(0, color = \"red\")\n",
    "plt.show()"
   ]
  },
  {
   "cell_type": "markdown",
   "id": "e130a2be",
   "metadata": {},
   "source": [
    "# 5.) Do these coefficient magnitudes make sense?"
   ]
  },
  {
   "cell_type": "code",
   "execution_count": null,
   "id": "0798b232",
   "metadata": {},
   "outputs": [],
   "source": []
  },
  {
   "cell_type": "code",
   "execution_count": null,
   "id": "bda82fa9",
   "metadata": {},
   "outputs": [],
   "source": []
  },
  {
   "cell_type": "markdown",
   "id": "3a2bd7d7",
   "metadata": {},
   "source": [
    "# 6.) Run a for loop looking at 10 different Lambdas and plot the coefficient magnitude for each."
   ]
  },
  {
   "cell_type": "code",
   "execution_count": null,
   "id": "1f115bee",
   "metadata": {},
   "outputs": [],
   "source": []
  },
  {
   "cell_type": "code",
   "execution_count": null,
   "id": "7a3e12d3",
   "metadata": {},
   "outputs": [],
   "source": []
  },
  {
   "cell_type": "markdown",
   "id": "17b28626",
   "metadata": {},
   "source": [
    "# 7.) Run a cross validation. What is your ideal lambda?"
   ]
  },
  {
   "cell_type": "code",
   "execution_count": null,
   "id": "9fc5cca1",
   "metadata": {},
   "outputs": [],
   "source": []
  },
  {
   "cell_type": "code",
   "execution_count": null,
   "id": "a58a192a",
   "metadata": {},
   "outputs": [],
   "source": []
  }
 ],
 "metadata": {
  "kernelspec": {
   "display_name": "Python 3 (ipykernel)",
   "language": "python",
   "name": "python3"
  },
  "language_info": {
   "codemirror_mode": {
    "name": "ipython",
    "version": 3
   },
   "file_extension": ".py",
   "mimetype": "text/x-python",
   "name": "python",
   "nbconvert_exporter": "python",
   "pygments_lexer": "ipython3",
   "version": "3.10.8"
  }
 },
 "nbformat": 4,
 "nbformat_minor": 5
}
